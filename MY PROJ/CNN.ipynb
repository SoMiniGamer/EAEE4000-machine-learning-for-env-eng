{
 "cells": [
  {
   "cell_type": "code",
   "execution_count": 2,
   "id": "bc74a0ae",
   "metadata": {},
   "outputs": [],
   "source": [
    "import os\n",
    "os.environ[\"KMP_DUPLICATE_LIB_OK\"]  =  \"TRUE\"\n",
    "import numpy as np\n",
    "import pandas as pd\n",
    "import matplotlib.pyplot as plt\n",
    "from sklearn.model_selection import train_test_split\n",
    "import xarray as xr\n",
    "from glob import glob\n",
    "\n",
    "import tensorflow as tf\n",
    "from tensorflow import keras\n",
    "from tensorflow.keras.models import Model, load_model\n",
    "from tensorflow.keras.layers import *\n",
    "from tensorflow.keras import Sequential"
   ]
  },
  {
   "cell_type": "code",
   "execution_count": 3,
   "id": "80d6d60e",
   "metadata": {},
   "outputs": [
    {
     "data": {
      "text/html": [
       "<div>\n",
       "<style scoped>\n",
       "    .dataframe tbody tr th:only-of-type {\n",
       "        vertical-align: middle;\n",
       "    }\n",
       "\n",
       "    .dataframe tbody tr th {\n",
       "        vertical-align: top;\n",
       "    }\n",
       "\n",
       "    .dataframe thead th {\n",
       "        text-align: right;\n",
       "    }\n",
       "</style>\n",
       "<table border=\"1\" class=\"dataframe\">\n",
       "  <thead>\n",
       "    <tr style=\"text-align: right;\">\n",
       "      <th></th>\n",
       "      <th>WS2M</th>\n",
       "      <th>PRECTOTCORR</th>\n",
       "      <th>ALLSKY_SFC_PAR_TOT</th>\n",
       "      <th>CLRSKY_SFC_PAR_TOT</th>\n",
       "      <th>WS10M</th>\n",
       "      <th>ALLSKY_SFC_SW_DWN</th>\n",
       "      <th>TS</th>\n",
       "      <th>T2M</th>\n",
       "      <th>WS50M</th>\n",
       "      <th>PS</th>\n",
       "      <th>QV2M</th>\n",
       "      <th>ALLSKY_SFC_UV_INDEX</th>\n",
       "    </tr>\n",
       "  </thead>\n",
       "  <tbody>\n",
       "    <tr>\n",
       "      <th>0</th>\n",
       "      <td>2.40</td>\n",
       "      <td>13.17</td>\n",
       "      <td>13.59</td>\n",
       "      <td>51.30</td>\n",
       "      <td>3.85</td>\n",
       "      <td>0.68</td>\n",
       "      <td>11.93</td>\n",
       "      <td>12.37</td>\n",
       "      <td>6.08</td>\n",
       "      <td>100.51</td>\n",
       "      <td>8.48</td>\n",
       "      <td>0.16</td>\n",
       "    </tr>\n",
       "    <tr>\n",
       "      <th>1</th>\n",
       "      <td>2.36</td>\n",
       "      <td>23.63</td>\n",
       "      <td>17.01</td>\n",
       "      <td>51.95</td>\n",
       "      <td>3.89</td>\n",
       "      <td>0.86</td>\n",
       "      <td>11.11</td>\n",
       "      <td>11.72</td>\n",
       "      <td>5.98</td>\n",
       "      <td>100.53</td>\n",
       "      <td>8.36</td>\n",
       "      <td>0.20</td>\n",
       "    </tr>\n",
       "    <tr>\n",
       "      <th>2</th>\n",
       "      <td>1.61</td>\n",
       "      <td>0.27</td>\n",
       "      <td>50.47</td>\n",
       "      <td>55.61</td>\n",
       "      <td>2.41</td>\n",
       "      <td>2.81</td>\n",
       "      <td>8.72</td>\n",
       "      <td>9.56</td>\n",
       "      <td>3.30</td>\n",
       "      <td>101.33</td>\n",
       "      <td>6.59</td>\n",
       "      <td>0.43</td>\n",
       "    </tr>\n",
       "    <tr>\n",
       "      <th>3</th>\n",
       "      <td>1.59</td>\n",
       "      <td>0.14</td>\n",
       "      <td>46.89</td>\n",
       "      <td>53.30</td>\n",
       "      <td>2.47</td>\n",
       "      <td>2.63</td>\n",
       "      <td>7.76</td>\n",
       "      <td>8.15</td>\n",
       "      <td>3.44</td>\n",
       "      <td>101.39</td>\n",
       "      <td>5.74</td>\n",
       "      <td>0.42</td>\n",
       "    </tr>\n",
       "    <tr>\n",
       "      <th>4</th>\n",
       "      <td>1.80</td>\n",
       "      <td>11.64</td>\n",
       "      <td>21.77</td>\n",
       "      <td>54.66</td>\n",
       "      <td>2.73</td>\n",
       "      <td>1.11</td>\n",
       "      <td>9.55</td>\n",
       "      <td>9.66</td>\n",
       "      <td>4.12</td>\n",
       "      <td>101.56</td>\n",
       "      <td>6.96</td>\n",
       "      <td>0.24</td>\n",
       "    </tr>\n",
       "  </tbody>\n",
       "</table>\n",
       "</div>"
      ],
      "text/plain": [
       "   WS2M  PRECTOTCORR  ALLSKY_SFC_PAR_TOT  CLRSKY_SFC_PAR_TOT  WS10M  \\\n",
       "0  2.40        13.17               13.59               51.30   3.85   \n",
       "1  2.36        23.63               17.01               51.95   3.89   \n",
       "2  1.61         0.27               50.47               55.61   2.41   \n",
       "3  1.59         0.14               46.89               53.30   2.47   \n",
       "4  1.80        11.64               21.77               54.66   2.73   \n",
       "\n",
       "   ALLSKY_SFC_SW_DWN     TS    T2M  WS50M      PS  QV2M  ALLSKY_SFC_UV_INDEX  \n",
       "0               0.68  11.93  12.37   6.08  100.51  8.48                 0.16  \n",
       "1               0.86  11.11  11.72   5.98  100.53  8.36                 0.20  \n",
       "2               2.81   8.72   9.56   3.30  101.33  6.59                 0.43  \n",
       "3               2.63   7.76   8.15   3.44  101.39  5.74                 0.42  \n",
       "4               1.11   9.55   9.66   4.12  101.56  6.96                 0.24  "
      ]
     },
     "execution_count": 3,
     "metadata": {},
     "output_type": "execute_result"
    }
   ],
   "source": [
    "weather_df = pd.read_csv('data 2002-2022.csv')\n",
    "weather_df.head()"
   ]
  },
  {
   "cell_type": "code",
   "execution_count": 4,
   "id": "98ea33af",
   "metadata": {},
   "outputs": [
    {
     "data": {
      "text/plain": [
       "(7609, 12)"
      ]
     },
     "execution_count": 4,
     "metadata": {},
     "output_type": "execute_result"
    }
   ],
   "source": [
    "weather_df.shape"
   ]
  },
  {
   "cell_type": "code",
   "execution_count": 5,
   "id": "461e55c5",
   "metadata": {},
   "outputs": [
    {
     "data": {
      "text/plain": [
       "WS2M                   False\n",
       "PRECTOTCORR            False\n",
       "ALLSKY_SFC_PAR_TOT     False\n",
       "CLRSKY_SFC_PAR_TOT     False\n",
       "WS10M                  False\n",
       "ALLSKY_SFC_SW_DWN      False\n",
       "TS                     False\n",
       "T2M                    False\n",
       "WS50M                  False\n",
       "PS                     False\n",
       "QV2M                   False\n",
       "ALLSKY_SFC_UV_INDEX    False\n",
       "dtype: bool"
      ]
     },
     "execution_count": 5,
     "metadata": {},
     "output_type": "execute_result"
    }
   ],
   "source": [
    "weather_df.isnull().any()"
   ]
  },
  {
   "cell_type": "code",
   "execution_count": 6,
   "id": "f8176ba1",
   "metadata": {},
   "outputs": [
    {
     "data": {
      "text/html": [
       "<div>\n",
       "<style scoped>\n",
       "    .dataframe tbody tr th:only-of-type {\n",
       "        vertical-align: middle;\n",
       "    }\n",
       "\n",
       "    .dataframe tbody tr th {\n",
       "        vertical-align: top;\n",
       "    }\n",
       "\n",
       "    .dataframe thead th {\n",
       "        text-align: right;\n",
       "    }\n",
       "</style>\n",
       "<table border=\"1\" class=\"dataframe\">\n",
       "  <thead>\n",
       "    <tr style=\"text-align: right;\">\n",
       "      <th></th>\n",
       "      <th>QV2M</th>\n",
       "      <th>PS</th>\n",
       "      <th>WS50M</th>\n",
       "      <th>T2M</th>\n",
       "      <th>TS</th>\n",
       "      <th>ALLSKY_SFC_SW_DWN</th>\n",
       "      <th>WS10M</th>\n",
       "      <th>ALLSKY_SFC_UV_INDEX</th>\n",
       "      <th>CLRSKY_SFC_PAR_TOT</th>\n",
       "      <th>ALLSKY_SFC_PAR_TOT</th>\n",
       "      <th>WS2M</th>\n",
       "    </tr>\n",
       "  </thead>\n",
       "  <tbody>\n",
       "    <tr>\n",
       "      <th>7211</th>\n",
       "      <td>-0.281101</td>\n",
       "      <td>-0.234893</td>\n",
       "      <td>-0.129269</td>\n",
       "      <td>0.940440</td>\n",
       "      <td>1.066222</td>\n",
       "      <td>0.472023</td>\n",
       "      <td>-0.111038</td>\n",
       "      <td>0.229604</td>\n",
       "      <td>0.169346</td>\n",
       "      <td>0.270289</td>\n",
       "      <td>-0.049417</td>\n",
       "    </tr>\n",
       "    <tr>\n",
       "      <th>7552</th>\n",
       "      <td>-0.038044</td>\n",
       "      <td>-1.731955</td>\n",
       "      <td>-0.675209</td>\n",
       "      <td>3.733371</td>\n",
       "      <td>3.153930</td>\n",
       "      <td>0.826057</td>\n",
       "      <td>-0.872855</td>\n",
       "      <td>-4.355277</td>\n",
       "      <td>-5.393271</td>\n",
       "      <td>-5.393178</td>\n",
       "      <td>-1.101720</td>\n",
       "    </tr>\n",
       "    <tr>\n",
       "      <th>2549</th>\n",
       "      <td>-0.409380</td>\n",
       "      <td>-1.710259</td>\n",
       "      <td>2.555470</td>\n",
       "      <td>-1.128805</td>\n",
       "      <td>-1.151124</td>\n",
       "      <td>-1.789864</td>\n",
       "      <td>2.480891</td>\n",
       "      <td>0.224837</td>\n",
       "      <td>-0.108312</td>\n",
       "      <td>-0.159517</td>\n",
       "      <td>2.515572</td>\n",
       "    </tr>\n",
       "    <tr>\n",
       "      <th>5370</th>\n",
       "      <td>0.873416</td>\n",
       "      <td>0.481094</td>\n",
       "      <td>-0.938545</td>\n",
       "      <td>0.794602</td>\n",
       "      <td>0.806946</td>\n",
       "      <td>0.771968</td>\n",
       "      <td>-0.960420</td>\n",
       "      <td>0.230887</td>\n",
       "      <td>0.227041</td>\n",
       "      <td>0.324399</td>\n",
       "      <td>-0.996490</td>\n",
       "    </tr>\n",
       "    <tr>\n",
       "      <th>3144</th>\n",
       "      <td>0.826155</td>\n",
       "      <td>-0.451858</td>\n",
       "      <td>0.121221</td>\n",
       "      <td>0.247023</td>\n",
       "      <td>0.463947</td>\n",
       "      <td>-0.221295</td>\n",
       "      <td>0.353057</td>\n",
       "      <td>0.230841</td>\n",
       "      <td>0.361141</td>\n",
       "      <td>0.172163</td>\n",
       "      <td>0.437273</td>\n",
       "    </tr>\n",
       "  </tbody>\n",
       "</table>\n",
       "</div>"
      ],
      "text/plain": [
       "          QV2M        PS     WS50M       T2M        TS  ALLSKY_SFC_SW_DWN  \\\n",
       "7211 -0.281101 -0.234893 -0.129269  0.940440  1.066222           0.472023   \n",
       "7552 -0.038044 -1.731955 -0.675209  3.733371  3.153930           0.826057   \n",
       "2549 -0.409380 -1.710259  2.555470 -1.128805 -1.151124          -1.789864   \n",
       "5370  0.873416  0.481094 -0.938545  0.794602  0.806946           0.771968   \n",
       "3144  0.826155 -0.451858  0.121221  0.247023  0.463947          -0.221295   \n",
       "\n",
       "         WS10M  ALLSKY_SFC_UV_INDEX  CLRSKY_SFC_PAR_TOT  ALLSKY_SFC_PAR_TOT  \\\n",
       "7211 -0.111038             0.229604            0.169346            0.270289   \n",
       "7552 -0.872855            -4.355277           -5.393271           -5.393178   \n",
       "2549  2.480891             0.224837           -0.108312           -0.159517   \n",
       "5370 -0.960420             0.230887            0.227041            0.324399   \n",
       "3144  0.353057             0.230841            0.361141            0.172163   \n",
       "\n",
       "          WS2M  \n",
       "7211 -0.049417  \n",
       "7552 -1.101720  \n",
       "2549  2.515572  \n",
       "5370 -0.996490  \n",
       "3144  0.437273  "
      ]
     },
     "execution_count": 6,
     "metadata": {},
     "output_type": "execute_result"
    }
   ],
   "source": [
    "X = weather_df.loc[:,['QV2M', 'PS', 'WS50M','T2M','TS','ALLSKY_SFC_SW_DWN','WS10M','ALLSKY_SFC_UV_INDEX','CLRSKY_SFC_PAR_TOT','ALLSKY_SFC_PAR_TOT','WS2M']]\n",
    "Y = weather_df.loc[:,'PRECTOTCORR']\n",
    "\n",
    "X_train, X_test,Y_train, Y_test=train_test_split(X,Y, test_size=0.2,random_state=100)\n",
    "mean=X.mean()\n",
    "std=X.std()\n",
    "X_train_n=(X_train-mean)/std\n",
    "X_test_n=(X_test-mean)/std\n",
    "X_train_n.head()"
   ]
  },
  {
   "cell_type": "code",
   "execution_count": 7,
   "id": "a97ca2c2",
   "metadata": {},
   "outputs": [
    {
     "name": "stdout",
     "output_type": "stream",
     "text": [
      "(6087, 11)\n",
      "(1522, 11)\n"
     ]
    }
   ],
   "source": [
    "print(X_train.shape)\n",
    "print(X_test.shape)"
   ]
  },
  {
   "cell_type": "code",
   "execution_count": 8,
   "id": "ba704e37",
   "metadata": {},
   "outputs": [
    {
     "data": {
      "text/plain": [
       "(7609, 11)"
      ]
     },
     "execution_count": 8,
     "metadata": {},
     "output_type": "execute_result"
    }
   ],
   "source": [
    "X.shape"
   ]
  },
  {
   "cell_type": "code",
   "execution_count": 9,
   "id": "c1ecf04d",
   "metadata": {},
   "outputs": [
    {
     "data": {
      "text/plain": [
       "Index(['QV2M', 'PS', 'WS50M', 'T2M', 'TS', 'ALLSKY_SFC_SW_DWN', 'WS10M',\n",
       "       'ALLSKY_SFC_UV_INDEX', 'CLRSKY_SFC_PAR_TOT', 'ALLSKY_SFC_PAR_TOT',\n",
       "       'WS2M'],\n",
       "      dtype='object')"
      ]
     },
     "execution_count": 9,
     "metadata": {},
     "output_type": "execute_result"
    }
   ],
   "source": [
    "X.columns"
   ]
  },
  {
   "cell_type": "code",
   "execution_count": 10,
   "id": "b3944a16",
   "metadata": {},
   "outputs": [
    {
     "name": "stdout",
     "output_type": "stream",
     "text": [
      "Model: \"sequential\"\n",
      "_________________________________________________________________\n",
      " Layer (type)                Output Shape              Param #   \n",
      "=================================================================\n",
      " hidden_layer_1 (Dense)      (None, 256)               3072      \n",
      "                                                                 \n",
      " hidden_layer_2 (Dense)      (None, 256)               65792     \n",
      "                                                                 \n",
      " output_layer (Dense)        (None, 1)                 257       \n",
      "                                                                 \n",
      "=================================================================\n",
      "Total params: 69,121\n",
      "Trainable params: 69,121\n",
      "Non-trainable params: 0\n",
      "_________________________________________________________________\n"
     ]
    }
   ],
   "source": [
    "# Define basic architecture\n",
    "model = keras.Sequential([\n",
    "    keras.layers.Dense(256, activation=tf.nn.relu, #activation=tf.keras.activations.linear,\n",
    "                       input_shape=(X_train.shape[1],),\n",
    "                       name='hidden_layer_1',),\n",
    "    keras.layers.Dense(256, activation=tf.nn.relu,\n",
    "                       name='hidden_layer_2',),\n",
    "    keras.layers.Dense(1, name='output_layer',)\n",
    "])\n",
    "\n",
    "model.compile(loss='mse',optimizer=tf.keras.optimizers.Adam(),metrics=['mae'])\n",
    "# Summary\n",
    "model.summary()"
   ]
  },
  {
   "cell_type": "code",
   "execution_count": 11,
   "id": "bf0e3916",
   "metadata": {},
   "outputs": [],
   "source": [
    "# Display training progress by printing a single dot for each completed epoch\n",
    "class PrintDot(keras.callbacks.Callback):\n",
    "    def on_epoch_end(self, epoch, logs):\n",
    "        if epoch % 100 == 0: print('')\n",
    "        print('.', end='')\n",
    "        \n",
    "# Visualize the model's training progress using the stats stored in the history object. \n",
    "def plot_history(history):\n",
    "    plt.figure()\n",
    "    plt.xlabel('Epoch')\n",
    "    plt.ylabel('Mean Abs Error')\n",
    "    plt.plot(history.epoch, np.array(history.history['loss']),\n",
    "           label='Train Loss')\n",
    "    plt.plot(history.epoch, np.array(history.history['val_loss']),\n",
    "           label = 'Val loss')\n",
    "    plt.legend()\n",
    "    #plt.ylim([0, 5])"
   ]
  },
  {
   "cell_type": "code",
   "execution_count": 12,
   "id": "1ecf269f",
   "metadata": {},
   "outputs": [
    {
     "name": "stdout",
     "output_type": "stream",
     "text": [
      "\n",
      "..........................................................................."
     ]
    },
    {
     "data": {
      "image/png": "[encoded data removed]",
      "text/plain": [
       "<Figure size 640x480 with 1 Axes>"
      ]
     },
     "metadata": {},
     "output_type": "display_data"
    }
   ],
   "source": [
    "# Over-fitting?\n",
    "early_stop = keras.callbacks.EarlyStopping(monitor='val_loss', patience=20)\n",
    "\n",
    "# Store training stats\n",
    "history = model.fit(X_train, Y_train, epochs=1000,\n",
    "                    validation_split=0.2, verbose=0,\n",
    "                    callbacks=[early_stop, PrintDot()])\n",
    "plot_history(history)"
   ]
  },
  {
   "cell_type": "code",
   "execution_count": 13,
   "id": "4ab177cb",
   "metadata": {},
   "outputs": [
    {
     "name": "stdout",
     "output_type": "stream",
     "text": [
      "The mean absolute Error is 1.8981930017471313.\n"
     ]
    }
   ],
   "source": [
    "[loss, mae] = model.evaluate(X_test_n, Y_test, verbose=0)\n",
    "\n",
    "print(f'The mean absolute Error is {mae}.')"
   ]
  },
  {
   "cell_type": "code",
   "execution_count": 14,
   "id": "2a0c9016",
   "metadata": {},
   "outputs": [
    {
     "name": "stdout",
     "output_type": "stream",
     "text": [
      "48/48 [==============================] - 0s 792us/step\n"
     ]
    },
    {
     "data": {
      "text/plain": [
       "[<matplotlib.lines.Line2D at 0x15934a1b130>]"
      ]
     },
     "execution_count": 14,
     "metadata": {},
     "output_type": "execute_result"
    },
    {
     "data": {
      "image/png": "[encoded data removed]",
      "text/plain": [
       "<Figure size 640x480 with 1 Axes>"
      ]
     },
     "metadata": {},
     "output_type": "display_data"
    }
   ],
   "source": [
    "Y_predict = model.predict(X_test_n)\n",
    "\n",
    "plt.scatter(Y_predict, Y_test)\n",
    "plt.xlabel('Predicted Values')\n",
    "plt.ylabel('True Values')\n",
    "plt.xlim(plt.xlim())\n",
    "plt.ylim(plt.ylim())\n",
    "plt.plot([-100,100],[-100,100])"
   ]
  },
  {
   "cell_type": "code",
   "execution_count": 15,
   "id": "92b33707",
   "metadata": {},
   "outputs": [
    {
     "data": {
      "text/plain": [
       "0.4300823297963028"
      ]
     },
     "execution_count": 15,
     "metadata": {},
     "output_type": "execute_result"
    }
   ],
   "source": [
    "from sklearn.metrics import r2_score\n",
    "r2_score(Y_test,Y_predict)"
   ]
  },
  {
   "cell_type": "code",
   "execution_count": 16,
   "id": "3df8104e",
   "metadata": {},
   "outputs": [
    {
     "data": {
      "text/plain": [
       "16.27706481002985"
      ]
     },
     "execution_count": 16,
     "metadata": {},
     "output_type": "execute_result"
    }
   ],
   "source": [
    "from sklearn.metrics import mean_squared_error\n",
    "# Calculation of Mean Squared Error (MSE)\n",
    "mean_squared_error(Y_test,Y_predict)"
   ]
  },
  {
   "cell_type": "code",
   "execution_count": 17,
   "id": "0868bed9",
   "metadata": {},
   "outputs": [
    {
     "name": "stdout",
     "output_type": "stream",
     "text": [
      "Root Mean Square Error:\n",
      "\n",
      "4.173703092400193\n"
     ]
    }
   ],
   "source": [
    "import math\n",
    "RMSE = math.sqrt(17.419797503510935)\n",
    "print(\"Root Mean Square Error:\\n\")\n",
    "print(RMSE)"
   ]
  },
  {
   "cell_type": "code",
   "execution_count": 18,
   "id": "515d07cf",
   "metadata": {},
   "outputs": [
    {
     "name": "stdout",
     "output_type": "stream",
     "text": [
      "Mean absolute error : 1.8981931719974996\n"
     ]
    }
   ],
   "source": [
    "\n",
    "from sklearn.metrics import mean_absolute_error as mae\n",
    "\n",
    "\n",
    "error = mae(Y_test, Y_predict)\n",
    "\n",
    "print(\"Mean absolute error : \" + str(error))\n"
   ]
  },
  {
   "cell_type": "code",
   "execution_count": 19,
   "id": "117006f5",
   "metadata": {},
   "outputs": [
    {
     "data": {
      "image/png": "[encoded data removed]",
      "text/plain": [
       "<Figure size 640x480 with 1 Axes>"
      ]
     },
     "metadata": {},
     "output_type": "display_data"
    }
   ],
   "source": [
    "error = Y_predict.reshape(1522,) - Y_test\n",
    "plt.xlim(-20,20)\n",
    "plt.hist(error,bins = 100)\n",
    "plt.xlabel(\"Prediction Error\")\n",
    "plt.ylabel(\"Count\")\n",
    "_=plt.ylabel(\"Count\")\n"
   ]
  },
  {
   "cell_type": "code",
   "execution_count": null,
   "id": "8360750f",
   "metadata": {},
   "outputs": [],
   "source": []
  },
  {
   "cell_type": "code",
   "execution_count": null,
   "id": "95e25a8c",
   "metadata": {},
   "outputs": [],
   "source": []
  },
  {
   "cell_type": "code",
   "execution_count": null,
   "id": "013ad730",
   "metadata": {},
   "outputs": [],
   "source": []
  }
 ],
 "metadata": {
  "kernelspec": {
   "display_name": "keras",
   "language": "python",
   "name": "keras"
  },
  "language_info": {
   "codemirror_mode": {
    "name": "ipython",
    "version": 3
   },
   "file_extension": ".py",
   "mimetype": "text/x-python",
   "name": "python",
   "nbconvert_exporter": "python",
   "pygments_lexer": "ipython3",
   "version": "3.10.8"
  }
 },
 "nbformat": 4,
 "nbformat_minor": 5
}
